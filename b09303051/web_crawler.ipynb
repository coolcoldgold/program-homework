{
 "cells": [
  {
   "cell_type": "code",
   "execution_count": 2,
   "metadata": {},
   "outputs": [
    {
     "name": "stdout",
     "output_type": "stream",
     "text": [
      "hello world\n"
     ]
    }
   ],
   "source": [
    "import pandas as pd\n",
    "from selenium import webdriver\n",
    "from selenium.webdriver.chrome.options import Options\n",
    "from selenium.webdriver.common.by import By\n",
    "import time\n",
    "import os\n",
    "\n",
    "options = Options()\n",
    "options.add_argument(\"--disable-notifications\")\n",
    "chrome = webdriver.Chrome('./chromedriver', options=options)\n",
    "chrome.get(\"https://www.taiwanlottery.com.tw/Lotto/SuperLotto638/history.aspx\")\n",
    "\n",
    "# 建立空的 DataFrame\n",
    "data = pd.DataFrame(columns=[\"location\", \"max_price\",\"p1\", \"se_price\",\"p2\",\"p3\",\"p4\",\"p5\",\"p6\",\"p7\",\"p8\",\"p9\",\"p10\"])\n",
    "loto = pd.read_csv(\"威力彩整理.csv\")\n",
    "# 生成編號清單\n",
    "numbers = loto[\"期別\"]  # 添加更多編號"
   ]
  }
 ],
 "metadata": {
  "kernelspec": {
   "display_name": "Python 3",
   "language": "python",
   "name": "python3"
  },
  "language_info": {
   "codemirror_mode": {
    "name": "ipython",
    "version": 3
   },
   "file_extension": ".py",
   "mimetype": "text/x-python",
   "name": "python",
   "nbconvert_exporter": "python",
   "pygments_lexer": "ipython3",
   "version": "3.10.8"
  }
 },
 "nbformat": 4,
 "nbformat_minor": 2
}
