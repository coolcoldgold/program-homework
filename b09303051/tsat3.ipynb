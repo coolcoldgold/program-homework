{
 "cells": [
  {
   "cell_type": "code",
   "execution_count": 10,
   "metadata": {},
   "outputs": [],
   "source": [
    "import dash\n",
    "from dash import dcc\n",
    "from dash import html\n",
    "from dash.dependencies import Input, Output\n",
    "from dash import State\n",
    "from dash.exceptions import PreventUpdate\n",
    "import pandas as pd\n",
    "from selenium import webdriver\n",
    "from selenium.webdriver.common.by import By\n",
    "from selenium.webdriver.support.ui import WebDriverWait\n",
    "from selenium.webdriver.support import expected_conditions as EC\n",
    "from selenium import webdriver\n",
    "from selenium.webdriver.chrome.service import Service as ChromeService\n",
    "import time\n",
    "import re\n",
    "import plotly.express as px"
   ]
  },
  {
   "cell_type": "code",
   "execution_count": 14,
   "metadata": {},
   "outputs": [
    {
     "data": {
      "text/html": [
       "\n",
       "        <iframe\n",
       "            width=\"100%\"\n",
       "            height=\"650\"\n",
       "            src=\"http://127.0.0.1:8051/\"\n",
       "            frameborder=\"0\"\n",
       "            allowfullscreen\n",
       "            \n",
       "        ></iframe>\n",
       "        "
      ],
      "text/plain": [
       "<IPython.lib.display.IFrame at 0x1b020be09a0>"
      ]
     },
     "metadata": {},
     "output_type": "display_data"
    },
    {
     "name": "stdout",
     "output_type": "stream",
     "text": [
      "換頁\n",
      "換頁\n",
      "換頁\n",
      "換頁\n",
      "資料已存入 booking_data.csv\n"
     ]
    },
    {
     "name": "stderr",
     "output_type": "stream",
     "text": [
      "C:\\Users\\chuan\\AppData\\Local\\Temp\\ipykernel_20048\\2865249513.py:190: FutureWarning:\n",
      "\n",
      "The default value of numeric_only in DataFrame.quantile is deprecated. In a future version, it will default to False. Select only valid columns or specify the value of numeric_only to silence this warning.\n",
      "\n",
      "C:\\Users\\chuan\\AppData\\Local\\Temp\\ipykernel_20048\\2865249513.py:191: FutureWarning:\n",
      "\n",
      "The default value of numeric_only in DataFrame.quantile is deprecated. In a future version, it will default to False. Select only valid columns or specify the value of numeric_only to silence this warning.\n",
      "\n",
      "C:\\Users\\chuan\\AppData\\Local\\Temp\\ipykernel_20048\\2865249513.py:194: FutureWarning:\n",
      "\n",
      "Automatic reindexing on DataFrame vs Series comparisons is deprecated and will raise ValueError in a future version. Do `left, right = left.align(right, axis=1, copy=False)` before e.g. `left == right`\n",
      "\n",
      "C:\\Users\\chuan\\AppData\\Local\\Temp\\ipykernel_20048\\2865249513.py:194: FutureWarning:\n",
      "\n",
      "Automatic reindexing on DataFrame vs Series comparisons is deprecated and will raise ValueError in a future version. Do `left, right = left.align(right, axis=1, copy=False)` before e.g. `left == right`\n",
      "\n"
     ]
    },
    {
     "data": {
      "application/vnd.plotly.v1+json": {
       "config": {
        "plotlyServerURL": "https://plot.ly"
       },
       "data": [
        {
         "customdata": [
          [
           "夏優旅居-駁二館",
           8.4
          ],
          [
           "西子灣大飯店",
           8.4
          ],
          [
           "天藝商旅",
           8.2
          ],
          [
           "WO Hotel",
           8.2
          ],
          [
           "宮賞藝術大飯店",
           8.6
          ],
          [
           "好地方飯店六合館",
           8.2
          ],
          [
           "家和商旅",
           8.2
          ],
          [
           "康橋商旅-高雄站前館",
           8.9
          ],
          [
           "好地方大飯店三多館",
           8.3
          ],
          [
           "康橋商旅- 六合夜市中正館",
           8.6
          ],
          [
           "城市商旅 - 高雄駁二館",
           8.1
          ],
          [
           "樂逸文旅-六合夜市棒球館",
           8.7
          ],
          [
           "南海商務大飯店",
           7.8
          ],
          [
           "帕鉑舍旅",
           8.7
          ],
          [
           "承攜行旅學產文教會館高雄美術館",
           8.2
          ],
          [
           "康橋商旅- 後驛九如館",
           8.8
          ],
          [
           "御宿行旅 - 雄中館",
           8.4
          ],
          [
           "康橋商旅-覺民館",
           9
          ],
          [
           "帕可麗酒店 PARK LEES HOTEL",
           8.8
          ],
          [
           "秝芯旅店駁二館",
           8.8
          ],
          [
           "癮室 Inns Hotel",
           8.8
          ],
          [
           "奇異果快捷旅店（高雄九如店）",
           7.6
          ],
          [
           "碧港良居商旅-站前館",
           8.5
          ],
          [
           "中央商務大飯店",
           7.8
          ],
          [
           "三華大飯店",
           7.7
          ],
          [
           "鈞怡大飯店",
           8.5
          ],
          [
           "奇異果快捷旅店-高雄車站店",
           7.1
          ],
          [
           "秝芯旅店六合館",
           8.4
          ],
          [
           "盛薈飯店",
           8
          ],
          [
           "康橋商旅五甲館",
           8.4
          ],
          [
           "龍翔商務大飯店",
           7.1
          ],
          [
           "高雄漢王洲際飯店",
           8
          ],
          [
           "高雄文賓大飯店 - 駁二館",
           8
          ],
          [
           "康橋商旅 - 衛武營館",
           7.9
          ],
          [
           "康橋商旅- 漢神館",
           8.5
          ],
          [
           "塔木德酒店 Classic 高雄愛河館",
           7.9
          ],
          [
           "高雄御宿商旅-中央公園館",
           8.2
          ],
          [
           "碧港良居商旅-The Harbour",
           8.5
          ],
          [
           "虎屋自助民宿",
           7.8
          ],
          [
           "日央商旅",
           7.7
          ],
          [
           "皇家金宸大飯店",
           8.4
          ],
          [
           "京城大飯店",
           7.9
          ],
          [
           "河畔文旅",
           7.7
          ],
          [
           "帝后大飯店",
           8.7
          ],
          [
           "歐遊國際連鎖精品旅館-高雄館",
           7.9
          ],
          [
           "和逸飯店．高雄中山館",
           8.6
          ],
          [
           "河堤美學商旅",
           8
          ],
          [
           "御宿國際商旅-後驛館",
           7.8
          ],
          [
           "住飯店",
           9
          ],
          [
           "艾探吉 AI TAN JI",
           8.3
          ],
          [
           "樂逸旅居",
           8.6
          ],
          [
           "JÒHŌ HOTEL Kaohsiung",
           9.2
          ],
          [
           "鮪魚家族飯店高雄館(黑鮪魚)",
           8
          ],
          [
           "康橋商旅-中山八德馆",
           8.6
          ],
          [
           "比歐緻居",
           9.2
          ],
          [
           "高雄福容大飯店",
           8
          ],
          [
           "御宿國際商旅-站前館",
           8
          ],
          [
           "華園大飯店草衙館",
           8.2
          ],
          [
           "薇風情汽車旅館(鳳山店)",
           8.2
          ],
          [
           "歐閣精品汽車旅館-簡愛館",
           8.3
          ],
          [
           "高雄行旅",
           8.6
          ],
          [
           "麗馨商旅七賢館",
           8.3
          ],
          [
           "Uno青年旅舍",
           8.6
          ],
          [
           "御宿國際商旅- 博愛館",
           8.2
          ],
          [
           "夏優旅居-駁二館",
           8.4
          ],
          [
           "固興大飯店",
           7.2
          ],
          [
           "喜達絲飯店",
           9
          ],
          [
           "旅居文旅高雄七賢館",
           8.2
          ],
          [
           "旅居文旅 高雄亞灣館",
           8.6
          ],
          [
           "237旅店",
           8.5
          ],
          [
           "康橋商旅-七賢館",
           8.9
          ],
          [
           "九福大飯店",
           7.7
          ],
          [
           "樂芙優旅精品旅館",
           8.6
          ],
          [
           "高雄統茂大飯店",
           7.9
          ],
          [
           "巴黎商務酒店",
           7.7
          ],
          [
           "康橋商旅- 光榮碼頭",
           8.8
          ],
          [
           "高雄靉嗨三多行旅",
           7.9
          ],
          [
           "高雄愛河智選假日酒店",
           8.4
          ],
          [
           "Hotel Papa Whale-高雄美麗島館",
           8.2
          ],
          [
           "巨蛋旅店",
           8.9
          ],
          [
           "七桃公寓",
           8
          ],
          [
           "高雄圓山大飯店",
           8.4
          ],
          [
           "福容徠旅 高雄",
           8.8
          ],
          [
           "碧港良居商旅-西子灣",
           8
          ],
          [
           "高雄靉嗨文旅",
           8
          ],
          [
           "首福大飯店",
           7.7
          ],
          [
           "85海角",
           8.4
          ],
          [
           "日光高鐵精品旅館",
           8
          ],
          [
           "背包41青年旅館-高雄館",
           8.2
          ],
          [
           "德立莊 - 高雄博愛館",
           8.1
          ],
          [
           "日光花園商務飯店",
           8.5
          ],
          [
           "蓮潭國際會館",
           7.8
          ],
          [
           "香堤時尚旅館",
           7.3
          ],
          [
           "西悠巢旅-高雄車站館",
           8.6
          ]
         ],
         "hovertemplate": "<b>%{hovertext}</b><br><br>price=%{x}<br>distance=%{y}<br>rating=%{marker.color}<extra></extra>",
         "hovertext": [
          "夏優旅居-駁二館",
          "西子灣大飯店",
          "天藝商旅",
          "WO Hotel",
          "宮賞藝術大飯店",
          "好地方飯店六合館",
          "家和商旅",
          "康橋商旅-高雄站前館",
          "好地方大飯店三多館",
          "康橋商旅- 六合夜市中正館",
          "城市商旅 - 高雄駁二館",
          "樂逸文旅-六合夜市棒球館",
          "南海商務大飯店",
          "帕鉑舍旅",
          "承攜行旅學產文教會館高雄美術館",
          "康橋商旅- 後驛九如館",
          "御宿行旅 - 雄中館",
          "康橋商旅-覺民館",
          "帕可麗酒店 PARK LEES HOTEL",
          "秝芯旅店駁二館",
          "癮室 Inns Hotel",
          "奇異果快捷旅店（高雄九如店）",
          "碧港良居商旅-站前館",
          "中央商務大飯店",
          "三華大飯店",
          "鈞怡大飯店",
          "奇異果快捷旅店-高雄車站店",
          "秝芯旅店六合館",
          "盛薈飯店",
          "康橋商旅五甲館",
          "龍翔商務大飯店",
          "高雄漢王洲際飯店",
          "高雄文賓大飯店 - 駁二館",
          "康橋商旅 - 衛武營館",
          "康橋商旅- 漢神館",
          "塔木德酒店 Classic 高雄愛河館",
          "高雄御宿商旅-中央公園館",
          "碧港良居商旅-The Harbour",
          "虎屋自助民宿",
          "日央商旅",
          "皇家金宸大飯店",
          "京城大飯店",
          "河畔文旅",
          "帝后大飯店",
          "歐遊國際連鎖精品旅館-高雄館",
          "和逸飯店．高雄中山館",
          "河堤美學商旅",
          "御宿國際商旅-後驛館",
          "住飯店",
          "艾探吉 AI TAN JI",
          "樂逸旅居",
          "JÒHŌ HOTEL Kaohsiung",
          "鮪魚家族飯店高雄館(黑鮪魚)",
          "康橋商旅-中山八德馆",
          "比歐緻居",
          "高雄福容大飯店",
          "御宿國際商旅-站前館",
          "華園大飯店草衙館",
          "薇風情汽車旅館(鳳山店)",
          "歐閣精品汽車旅館-簡愛館",
          "高雄行旅",
          "麗馨商旅七賢館",
          "Uno青年旅舍",
          "御宿國際商旅- 博愛館",
          "夏優旅居-駁二館",
          "固興大飯店",
          "喜達絲飯店",
          "旅居文旅高雄七賢館",
          "旅居文旅 高雄亞灣館",
          "237旅店",
          "康橋商旅-七賢館",
          "九福大飯店",
          "樂芙優旅精品旅館",
          "高雄統茂大飯店",
          "巴黎商務酒店",
          "康橋商旅- 光榮碼頭",
          "高雄靉嗨三多行旅",
          "高雄愛河智選假日酒店",
          "Hotel Papa Whale-高雄美麗島館",
          "巨蛋旅店",
          "七桃公寓",
          "高雄圓山大飯店",
          "福容徠旅 高雄",
          "碧港良居商旅-西子灣",
          "高雄靉嗨文旅",
          "首福大飯店",
          "85海角",
          "日光高鐵精品旅館",
          "背包41青年旅館-高雄館",
          "德立莊 - 高雄博愛館",
          "日光花園商務飯店",
          "蓮潭國際會館",
          "香堤時尚旅館",
          "西悠巢旅-高雄車站館"
         ],
         "legendgroup": "",
         "marker": {
          "color": [
           8.4,
           8.4,
           8.2,
           8.2,
           8.6,
           8.2,
           8.2,
           8.9,
           8.3,
           8.6,
           8.1,
           8.7,
           7.8,
           8.7,
           8.2,
           8.8,
           8.4,
           9,
           8.8,
           8.8,
           8.8,
           7.6,
           8.5,
           7.8,
           7.7,
           8.5,
           7.1,
           8.4,
           8,
           8.4,
           7.1,
           8,
           8,
           7.9,
           8.5,
           7.9,
           8.2,
           8.5,
           7.8,
           7.7,
           8.4,
           7.9,
           7.7,
           8.7,
           7.9,
           8.6,
           8,
           7.8,
           9,
           8.3,
           8.6,
           9.2,
           8,
           8.6,
           9.2,
           8,
           8,
           8.2,
           8.2,
           8.3,
           8.6,
           8.3,
           8.6,
           8.2,
           8.4,
           7.2,
           9,
           8.2,
           8.6,
           8.5,
           8.9,
           7.7,
           8.6,
           7.9,
           7.7,
           8.8,
           7.9,
           8.4,
           8.2,
           8.9,
           8,
           8.4,
           8.8,
           8,
           8,
           7.7,
           8.4,
           8,
           8.2,
           8.1,
           8.5,
           7.8,
           7.3,
           8.6
          ],
          "coloraxis": "coloraxis",
          "symbol": "circle"
         },
         "mode": "markers",
         "name": "",
         "orientation": "h",
         "showlegend": false,
         "type": "scatter",
         "x": [
          1259,
          1380,
          1092,
          1980,
          2915,
          900,
          1170,
          2579,
          900,
          2379,
          1692,
          1485,
          1200,
          1452,
          1883,
          2322,
          1100,
          2479,
          3700,
          1334,
          2560,
          1089,
          2102,
          680,
          1361,
          3000,
          950,
          1111,
          1580,
          1584,
          480,
          1530,
          1512,
          1570,
          1750,
          2214,
          1300,
          2167,
          990,
          870,
          2610,
          1559,
          1041,
          1530,
          2164,
          3088,
          1596,
          1100,
          4200,
          947,
          2890,
          4324,
          2153,
          2141,
          4326,
          4010,
          1100,
          2356,
          1710,
          2000,
          2618,
          539,
          1222,
          1300,
          1259,
          805,
          4500,
          480,
          1422,
          1550,
          3279,
          1690,
          2500,
          1169,
          1332,
          2880,
          766,
          3673,
          1872,
          3195,
          569,
          3900,
          3799,
          1586,
          887,
          1876,
          1050,
          1800,
          1080,
          1520,
          1428,
          2800,
          1802,
          1684
         ],
         "xaxis": "x",
         "y": [
          3200,
          2100,
          2000,
          2700,
          1700,
          2300,
          2800,
          2100,
          1300,
          1800,
          2700,
          1700,
          1900,
          2500,
          4400,
          2400,
          2300,
          3300,
          5000,
          2600,
          2000,
          2400,
          2400,
          1600,
          1400,
          2200,
          2500,
          2100,
          2300,
          3700,
          5000,
          3200,
          3000,
          2200,
          1300,
          1800,
          1500,
          4500,
          900,
          2900,
          4300,
          2600,
          2900,
          2900,
          2800,
          1000,
          3000,
          2600,
          1400,
          1000,
          1800,
          2000,
          2100,
          2000,
          1200,
          2500,
          2100,
          4600,
          5100,
          3500,
          1900,
          2600,
          1100,
          2800,
          3200,
          2400,
          1700,
          2200,
          1300,
          3100,
          2100,
          1900,
          5000,
          1400,
          1600,
          1800,
          500,
          2700,
          1100,
          5200,
          1400,
          5100,
          2100,
          4500,
          1800,
          1900,
          1500,
          7000,
          900,
          3400,
          800,
          6500,
          16300,
          2500
         ],
         "yaxis": "y"
        }
       ],
       "layout": {
        "coloraxis": {
         "colorbar": {
          "title": {
           "text": "rating"
          }
         },
         "colorscale": [
          [
           0,
           "#0d0887"
          ],
          [
           0.1111111111111111,
           "#46039f"
          ],
          [
           0.2222222222222222,
           "#7201a8"
          ],
          [
           0.3333333333333333,
           "#9c179e"
          ],
          [
           0.4444444444444444,
           "#bd3786"
          ],
          [
           0.5555555555555556,
           "#d8576b"
          ],
          [
           0.6666666666666666,
           "#ed7953"
          ],
          [
           0.7777777777777778,
           "#fb9f3a"
          ],
          [
           0.8888888888888888,
           "#fdca26"
          ],
          [
           1,
           "#f0f921"
          ]
         ]
        },
        "legend": {
         "tracegroupgap": 0
        },
        "template": {
         "data": {
          "bar": [
           {
            "error_x": {
             "color": "#2a3f5f"
            },
            "error_y": {
             "color": "#2a3f5f"
            },
            "marker": {
             "line": {
              "color": "#E5ECF6",
              "width": 0.5
             },
             "pattern": {
              "fillmode": "overlay",
              "size": 10,
              "solidity": 0.2
             }
            },
            "type": "bar"
           }
          ],
          "barpolar": [
           {
            "marker": {
             "line": {
              "color": "#E5ECF6",
              "width": 0.5
             },
             "pattern": {
              "fillmode": "overlay",
              "size": 10,
              "solidity": 0.2
             }
            },
            "type": "barpolar"
           }
          ],
          "carpet": [
           {
            "aaxis": {
             "endlinecolor": "#2a3f5f",
             "gridcolor": "white",
             "linecolor": "white",
             "minorgridcolor": "white",
             "startlinecolor": "#2a3f5f"
            },
            "baxis": {
             "endlinecolor": "#2a3f5f",
             "gridcolor": "white",
             "linecolor": "white",
             "minorgridcolor": "white",
             "startlinecolor": "#2a3f5f"
            },
            "type": "carpet"
           }
          ],
          "choropleth": [
           {
            "colorbar": {
             "outlinewidth": 0,
             "ticks": ""
            },
            "type": "choropleth"
           }
          ],
          "contour": [
           {
            "colorbar": {
             "outlinewidth": 0,
             "ticks": ""
            },
            "colorscale": [
             [
              0,
              "#0d0887"
             ],
             [
              0.1111111111111111,
              "#46039f"
             ],
             [
              0.2222222222222222,
              "#7201a8"
             ],
             [
              0.3333333333333333,
              "#9c179e"
             ],
             [
              0.4444444444444444,
              "#bd3786"
             ],
             [
              0.5555555555555556,
              "#d8576b"
             ],
             [
              0.6666666666666666,
              "#ed7953"
             ],
             [
              0.7777777777777778,
              "#fb9f3a"
             ],
             [
              0.8888888888888888,
              "#fdca26"
             ],
             [
              1,
              "#f0f921"
             ]
            ],
            "type": "contour"
           }
          ],
          "contourcarpet": [
           {
            "colorbar": {
             "outlinewidth": 0,
             "ticks": ""
            },
            "type": "contourcarpet"
           }
          ],
          "heatmap": [
           {
            "colorbar": {
             "outlinewidth": 0,
             "ticks": ""
            },
            "colorscale": [
             [
              0,
              "#0d0887"
             ],
             [
              0.1111111111111111,
              "#46039f"
             ],
             [
              0.2222222222222222,
              "#7201a8"
             ],
             [
              0.3333333333333333,
              "#9c179e"
             ],
             [
              0.4444444444444444,
              "#bd3786"
             ],
             [
              0.5555555555555556,
              "#d8576b"
             ],
             [
              0.6666666666666666,
              "#ed7953"
             ],
             [
              0.7777777777777778,
              "#fb9f3a"
             ],
             [
              0.8888888888888888,
              "#fdca26"
             ],
             [
              1,
              "#f0f921"
             ]
            ],
            "type": "heatmap"
           }
          ],
          "heatmapgl": [
           {
            "colorbar": {
             "outlinewidth": 0,
             "ticks": ""
            },
            "colorscale": [
             [
              0,
              "#0d0887"
             ],
             [
              0.1111111111111111,
              "#46039f"
             ],
             [
              0.2222222222222222,
              "#7201a8"
             ],
             [
              0.3333333333333333,
              "#9c179e"
             ],
             [
              0.4444444444444444,
              "#bd3786"
             ],
             [
              0.5555555555555556,
              "#d8576b"
             ],
             [
              0.6666666666666666,
              "#ed7953"
             ],
             [
              0.7777777777777778,
              "#fb9f3a"
             ],
             [
              0.8888888888888888,
              "#fdca26"
             ],
             [
              1,
              "#f0f921"
             ]
            ],
            "type": "heatmapgl"
           }
          ],
          "histogram": [
           {
            "marker": {
             "pattern": {
              "fillmode": "overlay",
              "size": 10,
              "solidity": 0.2
             }
            },
            "type": "histogram"
           }
          ],
          "histogram2d": [
           {
            "colorbar": {
             "outlinewidth": 0,
             "ticks": ""
            },
            "colorscale": [
             [
              0,
              "#0d0887"
             ],
             [
              0.1111111111111111,
              "#46039f"
             ],
             [
              0.2222222222222222,
              "#7201a8"
             ],
             [
              0.3333333333333333,
              "#9c179e"
             ],
             [
              0.4444444444444444,
              "#bd3786"
             ],
             [
              0.5555555555555556,
              "#d8576b"
             ],
             [
              0.6666666666666666,
              "#ed7953"
             ],
             [
              0.7777777777777778,
              "#fb9f3a"
             ],
             [
              0.8888888888888888,
              "#fdca26"
             ],
             [
              1,
              "#f0f921"
             ]
            ],
            "type": "histogram2d"
           }
          ],
          "histogram2dcontour": [
           {
            "colorbar": {
             "outlinewidth": 0,
             "ticks": ""
            },
            "colorscale": [
             [
              0,
              "#0d0887"
             ],
             [
              0.1111111111111111,
              "#46039f"
             ],
             [
              0.2222222222222222,
              "#7201a8"
             ],
             [
              0.3333333333333333,
              "#9c179e"
             ],
             [
              0.4444444444444444,
              "#bd3786"
             ],
             [
              0.5555555555555556,
              "#d8576b"
             ],
             [
              0.6666666666666666,
              "#ed7953"
             ],
             [
              0.7777777777777778,
              "#fb9f3a"
             ],
             [
              0.8888888888888888,
              "#fdca26"
             ],
             [
              1,
              "#f0f921"
             ]
            ],
            "type": "histogram2dcontour"
           }
          ],
          "mesh3d": [
           {
            "colorbar": {
             "outlinewidth": 0,
             "ticks": ""
            },
            "type": "mesh3d"
           }
          ],
          "parcoords": [
           {
            "line": {
             "colorbar": {
              "outlinewidth": 0,
              "ticks": ""
             }
            },
            "type": "parcoords"
           }
          ],
          "pie": [
           {
            "automargin": true,
            "type": "pie"
           }
          ],
          "scatter": [
           {
            "fillpattern": {
             "fillmode": "overlay",
             "size": 10,
             "solidity": 0.2
            },
            "type": "scatter"
           }
          ],
          "scatter3d": [
           {
            "line": {
             "colorbar": {
              "outlinewidth": 0,
              "ticks": ""
             }
            },
            "marker": {
             "colorbar": {
              "outlinewidth": 0,
              "ticks": ""
             }
            },
            "type": "scatter3d"
           }
          ],
          "scattercarpet": [
           {
            "marker": {
             "colorbar": {
              "outlinewidth": 0,
              "ticks": ""
             }
            },
            "type": "scattercarpet"
           }
          ],
          "scattergeo": [
           {
            "marker": {
             "colorbar": {
              "outlinewidth": 0,
              "ticks": ""
             }
            },
            "type": "scattergeo"
           }
          ],
          "scattergl": [
           {
            "marker": {
             "colorbar": {
              "outlinewidth": 0,
              "ticks": ""
             }
            },
            "type": "scattergl"
           }
          ],
          "scattermapbox": [
           {
            "marker": {
             "colorbar": {
              "outlinewidth": 0,
              "ticks": ""
             }
            },
            "type": "scattermapbox"
           }
          ],
          "scatterpolar": [
           {
            "marker": {
             "colorbar": {
              "outlinewidth": 0,
              "ticks": ""
             }
            },
            "type": "scatterpolar"
           }
          ],
          "scatterpolargl": [
           {
            "marker": {
             "colorbar": {
              "outlinewidth": 0,
              "ticks": ""
             }
            },
            "type": "scatterpolargl"
           }
          ],
          "scatterternary": [
           {
            "marker": {
             "colorbar": {
              "outlinewidth": 0,
              "ticks": ""
             }
            },
            "type": "scatterternary"
           }
          ],
          "surface": [
           {
            "colorbar": {
             "outlinewidth": 0,
             "ticks": ""
            },
            "colorscale": [
             [
              0,
              "#0d0887"
             ],
             [
              0.1111111111111111,
              "#46039f"
             ],
             [
              0.2222222222222222,
              "#7201a8"
             ],
             [
              0.3333333333333333,
              "#9c179e"
             ],
             [
              0.4444444444444444,
              "#bd3786"
             ],
             [
              0.5555555555555556,
              "#d8576b"
             ],
             [
              0.6666666666666666,
              "#ed7953"
             ],
             [
              0.7777777777777778,
              "#fb9f3a"
             ],
             [
              0.8888888888888888,
              "#fdca26"
             ],
             [
              1,
              "#f0f921"
             ]
            ],
            "type": "surface"
           }
          ],
          "table": [
           {
            "cells": {
             "fill": {
              "color": "#EBF0F8"
             },
             "line": {
              "color": "white"
             }
            },
            "header": {
             "fill": {
              "color": "#C8D4E3"
             },
             "line": {
              "color": "white"
             }
            },
            "type": "table"
           }
          ]
         },
         "layout": {
          "annotationdefaults": {
           "arrowcolor": "#2a3f5f",
           "arrowhead": 0,
           "arrowwidth": 1
          },
          "autotypenumbers": "strict",
          "coloraxis": {
           "colorbar": {
            "outlinewidth": 0,
            "ticks": ""
           }
          },
          "colorscale": {
           "diverging": [
            [
             0,
             "#8e0152"
            ],
            [
             0.1,
             "#c51b7d"
            ],
            [
             0.2,
             "#de77ae"
            ],
            [
             0.3,
             "#f1b6da"
            ],
            [
             0.4,
             "#fde0ef"
            ],
            [
             0.5,
             "#f7f7f7"
            ],
            [
             0.6,
             "#e6f5d0"
            ],
            [
             0.7,
             "#b8e186"
            ],
            [
             0.8,
             "#7fbc41"
            ],
            [
             0.9,
             "#4d9221"
            ],
            [
             1,
             "#276419"
            ]
           ],
           "sequential": [
            [
             0,
             "#0d0887"
            ],
            [
             0.1111111111111111,
             "#46039f"
            ],
            [
             0.2222222222222222,
             "#7201a8"
            ],
            [
             0.3333333333333333,
             "#9c179e"
            ],
            [
             0.4444444444444444,
             "#bd3786"
            ],
            [
             0.5555555555555556,
             "#d8576b"
            ],
            [
             0.6666666666666666,
             "#ed7953"
            ],
            [
             0.7777777777777778,
             "#fb9f3a"
            ],
            [
             0.8888888888888888,
             "#fdca26"
            ],
            [
             1,
             "#f0f921"
            ]
           ],
           "sequentialminus": [
            [
             0,
             "#0d0887"
            ],
            [
             0.1111111111111111,
             "#46039f"
            ],
            [
             0.2222222222222222,
             "#7201a8"
            ],
            [
             0.3333333333333333,
             "#9c179e"
            ],
            [
             0.4444444444444444,
             "#bd3786"
            ],
            [
             0.5555555555555556,
             "#d8576b"
            ],
            [
             0.6666666666666666,
             "#ed7953"
            ],
            [
             0.7777777777777778,
             "#fb9f3a"
            ],
            [
             0.8888888888888888,
             "#fdca26"
            ],
            [
             1,
             "#f0f921"
            ]
           ]
          },
          "colorway": [
           "#636efa",
           "#EF553B",
           "#00cc96",
           "#ab63fa",
           "#FFA15A",
           "#19d3f3",
           "#FF6692",
           "#B6E880",
           "#FF97FF",
           "#FECB52"
          ],
          "font": {
           "color": "#2a3f5f"
          },
          "geo": {
           "bgcolor": "white",
           "lakecolor": "white",
           "landcolor": "#E5ECF6",
           "showlakes": true,
           "showland": true,
           "subunitcolor": "white"
          },
          "hoverlabel": {
           "align": "left"
          },
          "hovermode": "closest",
          "mapbox": {
           "style": "light"
          },
          "paper_bgcolor": "white",
          "plot_bgcolor": "#E5ECF6",
          "polar": {
           "angularaxis": {
            "gridcolor": "white",
            "linecolor": "white",
            "ticks": ""
           },
           "bgcolor": "#E5ECF6",
           "radialaxis": {
            "gridcolor": "white",
            "linecolor": "white",
            "ticks": ""
           }
          },
          "scene": {
           "xaxis": {
            "backgroundcolor": "#E5ECF6",
            "gridcolor": "white",
            "gridwidth": 2,
            "linecolor": "white",
            "showbackground": true,
            "ticks": "",
            "zerolinecolor": "white"
           },
           "yaxis": {
            "backgroundcolor": "#E5ECF6",
            "gridcolor": "white",
            "gridwidth": 2,
            "linecolor": "white",
            "showbackground": true,
            "ticks": "",
            "zerolinecolor": "white"
           },
           "zaxis": {
            "backgroundcolor": "#E5ECF6",
            "gridcolor": "white",
            "gridwidth": 2,
            "linecolor": "white",
            "showbackground": true,
            "ticks": "",
            "zerolinecolor": "white"
           }
          },
          "shapedefaults": {
           "line": {
            "color": "#2a3f5f"
           }
          },
          "ternary": {
           "aaxis": {
            "gridcolor": "white",
            "linecolor": "white",
            "ticks": ""
           },
           "baxis": {
            "gridcolor": "white",
            "linecolor": "white",
            "ticks": ""
           },
           "bgcolor": "#E5ECF6",
           "caxis": {
            "gridcolor": "white",
            "linecolor": "white",
            "ticks": ""
           }
          },
          "title": {
           "x": 0.05
          },
          "xaxis": {
           "automargin": true,
           "gridcolor": "white",
           "linecolor": "white",
           "ticks": "",
           "title": {
            "standoff": 15
           },
           "zerolinecolor": "white",
           "zerolinewidth": 2
          },
          "yaxis": {
           "automargin": true,
           "gridcolor": "white",
           "linecolor": "white",
           "ticks": "",
           "title": {
            "standoff": 15
           },
           "zerolinecolor": "white",
           "zerolinewidth": 2
          }
         }
        },
        "title": {
         "text": "Hotel Scatter Plot 高雄 (No Outliers)"
        },
        "xaxis": {
         "anchor": "y",
         "domain": [
          0,
          1
         ],
         "title": {
          "text": "Price ($)"
         }
        },
        "yaxis": {
         "anchor": "x",
         "domain": [
          0,
          1
         ],
         "title": {
          "text": "Distance from Center (m)"
         }
        }
       }
      }
     },
     "metadata": {},
     "output_type": "display_data"
    }
   ],
   "source": [
    "\n",
    "\n",
    "# 創建一個 Pandas DataFrame\n",
    "data = {'name': [], 'location': [], 'price': [], 'rating': [], 'distance': [], 'comment': []}\n",
    "\n",
    "# 創建 Dash 應用\n",
    "app = dash.Dash(__name__)\n",
    "# 創建布局\n",
    "app.layout = html.Div([\n",
    "    # 輸入地點\n",
    "    dcc.Input(id='location-input', type='text', value='台北', placeholder='輸入地點'),\n",
    "\n",
    "    # 選擇日期範圍\n",
    "    dcc.DatePickerRange(\n",
    "        id='date-picker-range',\n",
    "        start_date='2023-11-24',\n",
    "        end_date='2023-11-25',\n",
    "        display_format='YYYY-MM-DD'\n",
    "    ),\n",
    "\n",
    "    # 新增一個按鈕\n",
    "    html.Button('執行程式', id='run-button'),\n",
    "\n",
    "    # 顯示散點圖\n",
    "    dcc.Graph(id='scatter-plot')\n",
    "])\n",
    "\n",
    "# 定義回調函數\n",
    "@app.callback(\n",
    "    Output('scatter-plot', 'figure'),\n",
    "    [Input('run-button', 'n_clicks')],\n",
    "    [State('location-input', 'value'),\n",
    "     State('date-picker-range', 'start_date'),\n",
    "     State('date-picker-range', 'end_date')]\n",
    ")\n",
    "def update_scatter_plot(n_clicks, selected_location, start_date, end_date):\n",
    "    if n_clicks is None:\n",
    "        raise PreventUpdate\n",
    "    url = \"https://www.booking.com/index.zh-tw.html\"\n",
    "    options = webdriver.ChromeOptions()\n",
    "    service = ChromeService(executable_path=r\"C:\\Users\\chuan\\Downloads\\chromedriver-win64\\chromedriver-win64\\chromedriver.exe\")\n",
    "    driver = webdriver.Chrome(service=service, options=options)\n",
    "    # 前往網頁\n",
    "    driver.get(url)\n",
    "\n",
    "\n",
    "\n",
    "\n",
    "    try:\n",
    "        # 使用WebDriverWait等待元素可見\n",
    "        button = WebDriverWait(driver, 10).until(\n",
    "            EC.visibility_of_element_located((By.XPATH, '//button[@aria-label=\"關閉登入的資訊。\"]'))\n",
    "        )\n",
    "        \n",
    "        # 點擊按鈕\n",
    "        button.click()\n",
    "    except Exception as e:\n",
    "        print(f\"沒有白癡視窗跳出來\")\n",
    "\n",
    "    # 找到搜尋位置的輸入框\n",
    "    loc_query = driver.find_element(By.CLASS_NAME, \"eb46370fe1\")\n",
    "\n",
    "    # 清空輸入框\n",
    "    loc_query.clear()\n",
    "\n",
    "\n",
    "    # 將地點輸入\n",
    "    travel_loc = selected_location  # 使用選擇的地點\n",
    "    loc_query.send_keys(travel_loc)\n",
    "\n",
    "    time.sleep(2)\n",
    "\n",
    "    element = WebDriverWait(driver, 10).until(\n",
    "        EC.visibility_of_element_located((By.XPATH, '//div[@class=\"a1139161bf\"]'))\n",
    "    )\n",
    "\n",
    "    # 模擬按一下元素\n",
    "    element.click()\n",
    "\n",
    "    date_element_23 = WebDriverWait(driver, 60).until(\n",
    "        EC.element_to_be_clickable((By.XPATH, f'//span[@data-date=\"{start_date}\"]'))\n",
    "    )\n",
    "    date_element_23.click()\n",
    "\n",
    "    date_element_24 = WebDriverWait(driver, 60).until(\n",
    "        EC.element_to_be_clickable((By.XPATH, f'//span[@data-date=\"{end_date}\"]'))\n",
    "    )\n",
    "\n",
    "    date_element_24.click()\n",
    "\n",
    "\n",
    "    # 找到搜尋按鈕，模擬點擊\n",
    "    submit_button = driver.find_element(By.XPATH, '//button[@type=\"submit\" and @class=\"a83ed08757 c21c56c305 a4c1805887 f671049264 d2529514af c082d89982 cceeb8986b\"]')\n",
    "    submit_button.click()\n",
    "    for i in range(4):\n",
    "        # 使用WebDriverWait等待元素可見，爬取飯店名\n",
    "        title_elements = WebDriverWait(driver, 10).until(\n",
    "            EC.presence_of_all_elements_located((By.XPATH, '//div[@data-testid=\"title\"]'))\n",
    "        )\n",
    "\n",
    "        # 使用WebDriverWait等待元素可見，爬取距離\n",
    "        distance_elements = WebDriverWait(driver, 10).until(\n",
    "            EC.presence_of_all_elements_located((By.XPATH, '//span[@data-testid=\"distance\"]'))\n",
    "        )\n",
    "        # 使用WebDriverWait等待元素可見，爬取評分和評論標籤\n",
    "        review_elements = WebDriverWait(driver, 10).until(\n",
    "            EC.presence_of_all_elements_located((By.XPATH, '//div[@data-testid=\"review-score\"]'))\n",
    "        )\n",
    "\n",
    "        # 使用WebDriverWait等待元素可見，爬取價格\n",
    "        price_elements = WebDriverWait(driver, 10).until(\n",
    "            EC.presence_of_all_elements_located((By.XPATH, '//span[@data-testid=\"price-and-discounted-price\"]'))\n",
    "        )\n",
    "        # 使用WebDriverWait等待元素可見，爬取地點\n",
    "        location_elements = WebDriverWait(driver, 10).until(\n",
    "            EC.presence_of_all_elements_located((By.XPATH, '//a[@class=\"a83ed08757 f88a5204c2 a1ae279108 b98133fb50\"]'))\n",
    "        )\n",
    "\n",
    "\n",
    "        for i in range(len(title_elements)):\n",
    "            title_text = title_elements[i].text\n",
    "            distance_text = distance_elements[i].text\n",
    "            location_text = location_elements[i].find_element(By.CLASS_NAME, 'aee5343fdb').text\n",
    "            price_text = price_elements[i].text\n",
    "            # score_text = score_elements[i].find_element(By.CLASS_NAME, 'a3b8729ab1').text\n",
    "            # review_label_text = score_elements[i].find_element(By.CLASS_NAME, 'a3b8729ab1').get_attribute(\"aria-label\")\n",
    "            try:\n",
    "                score_text = review_elements[i].find_element(By.CLASS_NAME, 'a3b8729ab1').text\n",
    "                comment_text = review_elements[i].find_element(By.CLASS_NAME, 'cb2cbb3ccb').text\n",
    "            except:\n",
    "                score_text = \"0\"\n",
    "                comment_text = \"無\"\n",
    "            \n",
    "\n",
    "            # 將資料加入 DataFrame\n",
    "            data['name'].append(title_text)\n",
    "            data['location'].append(location_text)\n",
    "            data['price'].append(price_text)\n",
    "            data['rating'].append(score_text)\n",
    "            data['distance'].append(distance_text)\n",
    "            data['comment'].append(comment_text)\n",
    "\n",
    "        try:\n",
    "        # 使用 WebDriverWait 等待按鈕可見\n",
    "            button = WebDriverWait(driver, 10).until(\n",
    "                EC.element_to_be_clickable((By.XPATH, '//button[@aria-label=\"下一頁\"]'))\n",
    "            )\n",
    "            \n",
    "            # 點擊按鈕\n",
    "            button.click()\n",
    "\n",
    "            print(\"換頁\")\n",
    "            time.sleep(2)\n",
    "\n",
    "        except Exception as e:\n",
    "            print(f\"發生例外: {e}\")\n",
    "        # print(f\"飯店名稱: {title_text}, 地點: {location_text}, 距離: {distance_text}, 分數: {score_text}, 評論標籤: {comment_text}, 價格: {price_text}\")\n",
    "\n",
    "    # 創建 DataFrame\n",
    "    df = pd.DataFrame(data)\n",
    "\n",
    "    # 存入 CSV 檔案\n",
    "    df.to_csv('booking_data.csv', index=False)\n",
    "\n",
    "    print(\"資料已存入 booking_data.csv\")\n",
    "\n",
    "\n",
    "    for i in range(0,len(df[\"price\"])):\n",
    "        df[\"price\"][i] = re.sub(r'[^\\d.]', '', df[\"price\"][i])\n",
    "\n",
    "    df[\"price\"] = df[\"price\"].astype('float')\n",
    "\n",
    "    #rating to float + handle missing value by remove row\n",
    "    df.dropna(subset=['rating'], inplace=True)\n",
    "    df[\"rating\"] = df[\"rating\"].astype('float')\n",
    "\n",
    "    #distance to int\n",
    "    for index, row in df.iterrows():\n",
    "        mult = 1\n",
    "        if(\"公里\" in row[\"distance\"]):\n",
    "                mult = 1000\n",
    "        df.at[index, 'distance'] = float(re.sub(r'[^\\d.]', '', row[\"distance\"])) * mult\n",
    "    df[\"distance\"].astype(\"int\")\n",
    "\n",
    "    for index, row in df.iterrows():\n",
    "        if ',' in row['comment']:\n",
    "            df.at[index, 'comment'] = row['comment'].replace(',', '')\n",
    "\n",
    "\n",
    "\n",
    "    #define outlier\n",
    "    Q1 = df[['price', 'distance']].quantile(0.25)\n",
    "    Q3 = df[['price', 'distance']].quantile(0.75)\n",
    "    IQR = Q3 - Q1\n",
    "\n",
    "    outlier_mask = ((df[['price', 'distance']] < (Q1 - 1.5 * IQR)) | (df[['price', 'distance']] > (Q3 + 1.5 * IQR))).any(axis=1)\n",
    "\n",
    "    # Remove outliers\n",
    "    df_no_outliers = df[~outlier_mask]\n",
    "\n",
    "    # Create a scatter plot without outliers\n",
    "    fig = px.scatter(\n",
    "        df_no_outliers,\n",
    "        x='price',\n",
    "        y='distance',\n",
    "        color='rating',\n",
    "        title=f'Hotel Scatter Plot {selected_location} (No Outliers)',\n",
    "        hover_name='name',\n",
    "        hover_data={'name': False, 'rating': True, 'price': True, 'distance': True}\n",
    "    )\n",
    "\n",
    "    # Customize axis labels\n",
    "    fig.update_xaxes(title_text='Price ($)')\n",
    "    fig.update_yaxes(title_text='Distance from Center (m)')\n",
    "\n",
    "    fig.show()\n",
    "\n",
    "    return fig\n",
    "\n",
    "# 運行應用\n",
    "if __name__ == '__main__':\n",
    "    app.run_server(debug=True, port=8051)\n"
   ]
  }
 ],
 "metadata": {
  "kernelspec": {
   "display_name": "Python 3",
   "language": "python",
   "name": "python3"
  },
  "language_info": {
   "codemirror_mode": {
    "name": "ipython",
    "version": 3
   },
   "file_extension": ".py",
   "mimetype": "text/x-python",
   "name": "python",
   "nbconvert_exporter": "python",
   "pygments_lexer": "ipython3",
   "version": "3.10.8"
  }
 },
 "nbformat": 4,
 "nbformat_minor": 2
}
