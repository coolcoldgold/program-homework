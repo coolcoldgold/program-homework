{
 "cells": [
  {
   "cell_type": "code",
   "execution_count": 1,
   "metadata": {},
   "outputs": [
    {
     "name": "stderr",
     "output_type": "stream",
     "text": [
      "C:\\Users\\chuan\\AppData\\Local\\Temp\\ipykernel_65564\\2960564165.py:10: DeprecationWarning: executable_path has been deprecated, please pass in a Service object\n",
      "  chrome = webdriver.Chrome('./chromedriver', options=options)\n",
      "C:\\Users\\chuan\\AppData\\Local\\Temp\\ipykernel_65564\\2960564165.py:43: FutureWarning: The frame.append method is deprecated and will be removed from pandas in a future version. Use pandas.concat instead.\n",
      "  data = data.append({\"code\": number, \"max_price\": max_price, \"se_price\": se_price,\"p1\":p1,\"p2\":p2,\"p3\":p3,\"p4\":p4,\"p5\":p5,\"p6\":p6,\"p7\":p7,\"p8\":p8,\"p9\":p9,\"p10\":p10}, ignore_index=True)\n",
      "C:\\Users\\chuan\\AppData\\Local\\Temp\\ipykernel_65564\\2960564165.py:43: FutureWarning: The frame.append method is deprecated and will be removed from pandas in a future version. Use pandas.concat instead.\n",
      "  data = data.append({\"code\": number, \"max_price\": max_price, \"se_price\": se_price,\"p1\":p1,\"p2\":p2,\"p3\":p3,\"p4\":p4,\"p5\":p5,\"p6\":p6,\"p7\":p7,\"p8\":p8,\"p9\":p9,\"p10\":p10}, ignore_index=True)\n"
     ]
    },
    {
     "ename": "NoSuchWindowException",
     "evalue": "Message: no such window: target window already closed\nfrom unknown error: web view not found\n  (Session info: chrome=113.0.5672.127)\nStacktrace:\nBacktrace:\n\tGetHandleVerifier [0x00748893+48451]\n\t(No symbol) [0x006DB8A1]\n\t(No symbol) [0x005E5058]\n\t(No symbol) [0x005CD073]\n\t(No symbol) [0x0062DEBB]\n\t(No symbol) [0x0063BFD3]\n\t(No symbol) [0x0062A0B6]\n\t(No symbol) [0x00607E08]\n\t(No symbol) [0x00608F2D]\n\tGetHandleVerifier [0x009A8E3A+2540266]\n\tGetHandleVerifier [0x009E8959+2801161]\n\tGetHandleVerifier [0x009E295C+2776588]\n\tGetHandleVerifier [0x007D2280+612144]\n\t(No symbol) [0x006E4F6C]\n\t(No symbol) [0x006E11D8]\n\t(No symbol) [0x006E12BB]\n\t(No symbol) [0x006D4857]\n\tBaseThreadInitThunk [0x767200C9+25]\n\tRtlGetAppContainerNamedObjectPath [0x77097B4E+286]\n\tRtlGetAppContainerNamedObjectPath [0x77097B1E+238]\n",
     "output_type": "error",
     "traceback": [
      "\u001b[1;31m---------------------------------------------------------------------------\u001b[0m",
      "\u001b[1;31mNoSuchWindowException\u001b[0m                     Traceback (most recent call last)",
      "\u001b[1;32mc:\\Users\\chuan\\Desktop\\又是作業\\資分\\爬蟲.ipynb Cell 1\u001b[0m in \u001b[0;36m2\n\u001b[0;32m     <a href='vscode-notebook-cell:/c%3A/Users/chuan/Desktop/%E5%8F%88%E6%98%AF%E4%BD%9C%E6%A5%AD/%E8%B3%87%E5%88%86/%E7%88%AC%E8%9F%B2.ipynb#W0sZmlsZQ%3D%3D?line=18'>19</a>\u001b[0m \u001b[39mfor\u001b[39;00m i \u001b[39min\u001b[39;00m \u001b[39mrange\u001b[39m(\u001b[39m800\u001b[39m,\u001b[39mlen\u001b[39m(numbers)):\n\u001b[0;32m     <a href='vscode-notebook-cell:/c%3A/Users/chuan/Desktop/%E5%8F%88%E6%98%AF%E4%BD%9C%E6%A5%AD/%E8%B3%87%E5%88%86/%E7%88%AC%E8%9F%B2.ipynb#W0sZmlsZQ%3D%3D?line=19'>20</a>\u001b[0m     number \u001b[39m=\u001b[39m \u001b[39mint\u001b[39m(numbers[i])\n\u001b[1;32m---> <a href='vscode-notebook-cell:/c%3A/Users/chuan/Desktop/%E5%8F%88%E6%98%AF%E4%BD%9C%E6%A5%AD/%E8%B3%87%E5%88%86/%E7%88%AC%E8%9F%B2.ipynb#W0sZmlsZQ%3D%3D?line=20'>21</a>\u001b[0m     num \u001b[39m=\u001b[39m chrome\u001b[39m.\u001b[39;49mfind_element(By\u001b[39m.\u001b[39;49mID, \u001b[39m\"\u001b[39;49m\u001b[39mSuperLotto638Control_history1_txtNO\u001b[39;49m\u001b[39m\"\u001b[39;49m)\n\u001b[0;32m     <a href='vscode-notebook-cell:/c%3A/Users/chuan/Desktop/%E5%8F%88%E6%98%AF%E4%BD%9C%E6%A5%AD/%E8%B3%87%E5%88%86/%E7%88%AC%E8%9F%B2.ipynb#W0sZmlsZQ%3D%3D?line=21'>22</a>\u001b[0m     num\u001b[39m.\u001b[39mclear()\n\u001b[0;32m     <a href='vscode-notebook-cell:/c%3A/Users/chuan/Desktop/%E5%8F%88%E6%98%AF%E4%BD%9C%E6%A5%AD/%E8%B3%87%E5%88%86/%E7%88%AC%E8%9F%B2.ipynb#W0sZmlsZQ%3D%3D?line=22'>23</a>\u001b[0m     num\u001b[39m.\u001b[39msend_keys(number)\n",
      "File \u001b[1;32mc:\\Users\\chuan\\AppData\\Local\\Programs\\Python\\Python310\\lib\\site-packages\\selenium\\webdriver\\remote\\webdriver.py:831\u001b[0m, in \u001b[0;36mWebDriver.find_element\u001b[1;34m(self, by, value)\u001b[0m\n\u001b[0;32m    828\u001b[0m     by \u001b[39m=\u001b[39m By\u001b[39m.\u001b[39mCSS_SELECTOR\n\u001b[0;32m    829\u001b[0m     value \u001b[39m=\u001b[39m \u001b[39mf\u001b[39m\u001b[39m'\u001b[39m\u001b[39m[name=\u001b[39m\u001b[39m\"\u001b[39m\u001b[39m{\u001b[39;00mvalue\u001b[39m}\u001b[39;00m\u001b[39m\"\u001b[39m\u001b[39m]\u001b[39m\u001b[39m'\u001b[39m\n\u001b[1;32m--> 831\u001b[0m \u001b[39mreturn\u001b[39;00m \u001b[39mself\u001b[39;49m\u001b[39m.\u001b[39;49mexecute(Command\u001b[39m.\u001b[39;49mFIND_ELEMENT, {\u001b[39m\"\u001b[39;49m\u001b[39musing\u001b[39;49m\u001b[39m\"\u001b[39;49m: by, \u001b[39m\"\u001b[39;49m\u001b[39mvalue\u001b[39;49m\u001b[39m\"\u001b[39;49m: value})[\u001b[39m\"\u001b[39m\u001b[39mvalue\u001b[39m\u001b[39m\"\u001b[39m]\n",
      "File \u001b[1;32mc:\\Users\\chuan\\AppData\\Local\\Programs\\Python\\Python310\\lib\\site-packages\\selenium\\webdriver\\remote\\webdriver.py:440\u001b[0m, in \u001b[0;36mWebDriver.execute\u001b[1;34m(self, driver_command, params)\u001b[0m\n\u001b[0;32m    438\u001b[0m response \u001b[39m=\u001b[39m \u001b[39mself\u001b[39m\u001b[39m.\u001b[39mcommand_executor\u001b[39m.\u001b[39mexecute(driver_command, params)\n\u001b[0;32m    439\u001b[0m \u001b[39mif\u001b[39;00m response:\n\u001b[1;32m--> 440\u001b[0m     \u001b[39mself\u001b[39;49m\u001b[39m.\u001b[39;49merror_handler\u001b[39m.\u001b[39;49mcheck_response(response)\n\u001b[0;32m    441\u001b[0m     response[\u001b[39m\"\u001b[39m\u001b[39mvalue\u001b[39m\u001b[39m\"\u001b[39m] \u001b[39m=\u001b[39m \u001b[39mself\u001b[39m\u001b[39m.\u001b[39m_unwrap_value(response\u001b[39m.\u001b[39mget(\u001b[39m\"\u001b[39m\u001b[39mvalue\u001b[39m\u001b[39m\"\u001b[39m, \u001b[39mNone\u001b[39;00m))\n\u001b[0;32m    442\u001b[0m     \u001b[39mreturn\u001b[39;00m response\n",
      "File \u001b[1;32mc:\\Users\\chuan\\AppData\\Local\\Programs\\Python\\Python310\\lib\\site-packages\\selenium\\webdriver\\remote\\errorhandler.py:245\u001b[0m, in \u001b[0;36mErrorHandler.check_response\u001b[1;34m(self, response)\u001b[0m\n\u001b[0;32m    243\u001b[0m         alert_text \u001b[39m=\u001b[39m value[\u001b[39m\"\u001b[39m\u001b[39malert\u001b[39m\u001b[39m\"\u001b[39m]\u001b[39m.\u001b[39mget(\u001b[39m\"\u001b[39m\u001b[39mtext\u001b[39m\u001b[39m\"\u001b[39m)\n\u001b[0;32m    244\u001b[0m     \u001b[39mraise\u001b[39;00m exception_class(message, screen, stacktrace, alert_text)  \u001b[39m# type: ignore[call-arg]  # mypy is not smart enough here\u001b[39;00m\n\u001b[1;32m--> 245\u001b[0m \u001b[39mraise\u001b[39;00m exception_class(message, screen, stacktrace)\n",
      "\u001b[1;31mNoSuchWindowException\u001b[0m: Message: no such window: target window already closed\nfrom unknown error: web view not found\n  (Session info: chrome=113.0.5672.127)\nStacktrace:\nBacktrace:\n\tGetHandleVerifier [0x00748893+48451]\n\t(No symbol) [0x006DB8A1]\n\t(No symbol) [0x005E5058]\n\t(No symbol) [0x005CD073]\n\t(No symbol) [0x0062DEBB]\n\t(No symbol) [0x0063BFD3]\n\t(No symbol) [0x0062A0B6]\n\t(No symbol) [0x00607E08]\n\t(No symbol) [0x00608F2D]\n\tGetHandleVerifier [0x009A8E3A+2540266]\n\tGetHandleVerifier [0x009E8959+2801161]\n\tGetHandleVerifier [0x009E295C+2776588]\n\tGetHandleVerifier [0x007D2280+612144]\n\t(No symbol) [0x006E4F6C]\n\t(No symbol) [0x006E11D8]\n\t(No symbol) [0x006E12BB]\n\t(No symbol) [0x006D4857]\n\tBaseThreadInitThunk [0x767200C9+25]\n\tRtlGetAppContainerNamedObjectPath [0x77097B4E+286]\n\tRtlGetAppContainerNamedObjectPath [0x77097B1E+238]\n"
     ]
    }
   ],
   "source": [
    "import pandas as pd\n",
    "from selenium import webdriver\n",
    "from selenium.webdriver.chrome.options import Options\n",
    "from selenium.webdriver.common.by import By\n",
    "import time\n",
    "import os\n",
    "\n",
    "options = Options()\n",
    "options.add_argument(\"--disable-notifications\")\n",
    "chrome = webdriver.Chrome('./chromedriver', options=options)\n",
    "chrome.get(\"https://www.taiwanlottery.com.tw/Lotto/SuperLotto638/history.aspx\")\n",
    "\n",
    "# 建立空的 DataFrame\n",
    "data = pd.DataFrame(columns=[\"code\", \"max_price\",\"p1\", \"se_price\",\"p2\",\"p3\",\"p4\",\"p5\",\"p6\",\"p7\",\"p8\",\"p9\",\"p10\"])\n",
    "loto = pd.read_csv(\"威力彩整理.csv\")\n",
    "# 生成編號清單\n",
    "numbers = loto[\"期別\"]  # 添加更多編號\n",
    "\n",
    "for i in range(800,len(numbers)):\n",
    "    number = int(numbers[i])\n",
    "    num = chrome.find_element(By.ID, \"SuperLotto638Control_history1_txtNO\")\n",
    "    num.clear()\n",
    "    num.send_keys(number)\n",
    "    \n",
    "    enter = chrome.find_element(By.ID, \"SuperLotto638Control_history1_btnSubmit\")\n",
    "    enter.click()\n",
    "    \n",
    "    max_price = chrome.find_element(By.ID, \"SuperLotto638Control_history1_dlQuery_SL638_CategA5_0\").text\n",
    "    se_price = chrome.find_element(By.ID, \"SuperLotto638Control_history1_dlQuery_SL638_CategB5_0\").text\n",
    "    p1 = chrome.find_element(By.ID, \"SuperLotto638Control_history1_dlQuery_SL638_CategA3_0\").text\n",
    "    p2 = chrome.find_element(By.ID, \"SuperLotto638Control_history1_dlQuery_SL638_CategB3_0\").text\n",
    "    p3 = chrome.find_element(By.ID, \"SuperLotto638Control_history1_dlQuery_SL638_CategC3_0\").text\n",
    "    p4 = chrome.find_element(By.ID, \"SuperLotto638Control_history1_dlQuery_SL638_CategD3_0\").text\n",
    "    p5 = chrome.find_element(By.ID, \"SuperLotto638Control_history1_dlQuery_SL638_CategE3_0\").text\n",
    "    p6 = chrome.find_element(By.ID, \"SuperLotto638Control_history1_dlQuery_SL638_CategF3_0\").text\n",
    "    p7 = chrome.find_element(By.ID, \"SuperLotto638Control_history1_dlQuery_SL638_CategG3_0\").text\n",
    "    p8 = chrome.find_element(By.ID, \"SuperLotto638Control_history1_dlQuery_SL638_CategH3_0\").text\n",
    "    p9 = chrome.find_element(By.ID, \"SuperLotto638Control_history1_dlQuery_SL638_CategJ3_0\").text\n",
    "    p10 = chrome.find_element(By.ID, \"SuperLotto638Control_history1_dlQuery_SL638_CategI3_0\").text\n",
    "    \n",
    "    \n",
    "    # 將結果添加到 DataFrame\n",
    "    data = data.append({\"code\": number, \"max_price\": max_price, \"se_price\": se_price,\"p1\":p1,\"p2\":p2,\"p3\":p3,\"p4\":p4,\"p5\":p5,\"p6\":p6,\"p7\":p7,\"p8\":p8,\"p9\":p9,\"p10\":p10}, ignore_index=True)\n",
    "    \n",
    "    # 清除輸入框內容\n",
    "    chrome.find_element(By.ID, \"SuperLotto638Control_history1_txtNO\").clear()\n",
    "    time.sleep(1)\n",
    "\n",
    "\n",
    "# 檢查是否已存在 result.csv 檔案\n",
    "if os.path.isfile(\"result2.csv\"):\n",
    "    # 如果已存在，則先刪除\n",
    "    os.remove(\"result2.csv\")\n",
    "\n",
    "# 輸出為 CSV 檔案\n",
    "data.to_csv(\"result2.csv\", index=False)"
   ]
  }
 ],
 "metadata": {
  "kernelspec": {
   "display_name": "Python 3",
   "language": "python",
   "name": "python3"
  },
  "language_info": {
   "codemirror_mode": {
    "name": "ipython",
    "version": 3
   },
   "file_extension": ".py",
   "mimetype": "text/x-python",
   "name": "python",
   "nbconvert_exporter": "python",
   "pygments_lexer": "ipython3",
   "version": "3.10.8"
  },
  "orig_nbformat": 4
 },
 "nbformat": 4,
 "nbformat_minor": 2
}
